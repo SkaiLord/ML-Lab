{
  "nbformat": 4,
  "nbformat_minor": 0,
  "metadata": {
    "colab": {
      "provenance": [],
      "include_colab_link": true
    },
    "kernelspec": {
      "name": "python3",
      "display_name": "Python 3"
    },
    "language_info": {
      "name": "python"
    }
  },
  "cells": [
    {
      "cell_type": "markdown",
      "metadata": {
        "id": "view-in-github",
        "colab_type": "text"
      },
      "source": [
        "<a href=\"https://colab.research.google.com/github/SkaiLord/ML-Lab/blob/main/ML_Assignment_1.ipynb\" target=\"_parent\"><img src=\"https://colab.research.google.com/assets/colab-badge.svg\" alt=\"Open In Colab\"/></a>"
      ]
    },
    {
      "cell_type": "markdown",
      "source": [
        "# LAB 1"
      ],
      "metadata": {
        "id": "x30z9GxWfcvB"
      }
    },
    {
      "cell_type": "code",
      "execution_count": null,
      "metadata": {
        "id": "sD_5Bh8mKwr9"
      },
      "outputs": [],
      "source": [
        "import numpy as np"
      ]
    },
    {
      "cell_type": "code",
      "source": [
        "# Reverse the NumPy array: arr = np.array([1, 2, 3, 6, 4, 5])\n",
        "arr = np.array([1, 2, 3, 6, 4, 5])\n",
        "reversed_arr = arr[::-1]\n",
        "print(reversed_arr)"
      ],
      "metadata": {
        "colab": {
          "base_uri": "https://localhost:8080/"
        },
        "id": "aWE2zhDnMT6u",
        "outputId": "1b5a6396-257b-4950-9e1a-2508e81a98e9"
      },
      "execution_count": null,
      "outputs": [
        {
          "output_type": "stream",
          "name": "stdout",
          "text": [
            "[5 4 6 3 2 1]\n"
          ]
        }
      ]
    },
    {
      "cell_type": "code",
      "source": [
        "# Flatten the NumPy arr: array1 = np.array([[1, 2, 3], [2, 4, 5], [1, 2, 3]]) using any two NumPy in-built methods\n",
        "array1 = np.array([[1, 2, 3], [2, 4, 5], [1, 2, 3]])\n",
        "flattened_array = array1.flatten()\n",
        "print(flattened_array)\n",
        "# Ravel flatten actual array w/o allocating new memory for new array -> immutable\n",
        "# flattened_array = array1.ravel()\n",
        "# print(flattened_array)"
      ],
      "metadata": {
        "colab": {
          "base_uri": "https://localhost:8080/"
        },
        "id": "KF-AqGE_Mfsl",
        "outputId": "73a8effc-b2bb-462f-fbac-3011fae3b106"
      },
      "execution_count": null,
      "outputs": [
        {
          "output_type": "stream",
          "name": "stdout",
          "text": [
            "[1 2 3 2 4 5 1 2 3]\n"
          ]
        }
      ]
    },
    {
      "cell_type": "code",
      "source": [
        "# Compare the following numpy arrays: arr1 = np.array([[1, 2], [3, 4]]) arr2 = np.array([[1, 2], [3, 4]])\n",
        "arr1 = np.array([[1, 2], [3, 4]])\n",
        "arr2 = np.array([[1, 2], [3, 4]])\n",
        "print(np.array_equal(arr1, arr2))"
      ],
      "metadata": {
        "colab": {
          "base_uri": "https://localhost:8080/"
        },
        "id": "lsFRQ3WhMwFE",
        "outputId": "7bd6cd29-835a-4f23-804d-8c74f528d6b8"
      },
      "execution_count": null,
      "outputs": [
        {
          "output_type": "stream",
          "name": "stdout",
          "text": [
            "True\n"
          ]
        }
      ]
    },
    {
      "cell_type": "code",
      "source": [
        "# Find the most frequent value and their indice(s) in the following arrays: x = np.array([1,2,3,4,5,1,2,1,1,1]) y = np.array([1, 1, 1, 2, 3, 4, 2, 4, 3, 3, ])\n",
        "x = np.array([1,2,3,4,5,1,2,1,1,1])\n",
        "print(\"X array:\")\n",
        "print(x)\n",
        "\n",
        "print(\"Most frequent value in the above array:\")\n",
        "print(np.bincount(x).argmax())\n",
        "y = np.array([1, 1, 1, 2, 3, 4, 2, 4, 3, 3])\n",
        "print(\"Y array:\")\n",
        "print(y)\n",
        "\n",
        "print(\"Most frequent value in the above array:\")\n",
        "print(np.bincount(y).argmax())"
      ],
      "metadata": {
        "colab": {
          "base_uri": "https://localhost:8080/"
        },
        "id": "lmFkfN39M6OB",
        "outputId": "d0768d87-87a2-488f-d921-5af04b6ae470"
      },
      "execution_count": null,
      "outputs": [
        {
          "output_type": "stream",
          "name": "stdout",
          "text": [
            "X array:\n",
            "[1 2 3 4 5 1 2 1 1 1]\n",
            "Most frequent value in the above array:\n",
            "1\n",
            "Y array:\n",
            "[1 1 1 2 3 4 2 4 3 3]\n",
            "Most frequent value in the above array:\n",
            "1\n"
          ]
        }
      ]
    },
    {
      "cell_type": "code",
      "source": [
        "# For the array gfg = np.matrix('[4, 1, 9; 12, 3, 1; 4, 5, 6]'), find Sum of all elements, Sum of all elements row-wise, Sum of all elements column-wise\n",
        "gfg = np.matrix('[4, 1, 9; 12, 3, 1; 4, 5, 6]')\n",
        "print(\"Sum of all elements:\")\n",
        "print(np.sum(gfg))\n",
        "print(\"Sum of all elements row-wise:\")\n",
        "print(np.sum(gfg, axis=1))\n",
        "print(\"Sum of all elements column-wise:\")\n",
        "print(np.sum(gfg, axis=0))"
      ],
      "metadata": {
        "colab": {
          "base_uri": "https://localhost:8080/"
        },
        "id": "673ZqqrxOpQZ",
        "outputId": "c9386f43-86e7-4f45-fd7a-f76dae773d2d"
      },
      "execution_count": null,
      "outputs": [
        {
          "output_type": "stream",
          "name": "stdout",
          "text": [
            "Sum of all elements:\n",
            "45\n",
            "Sum of all elements row-wise:\n",
            "[[14]\n",
            " [16]\n",
            " [15]]\n",
            "Sum of all elements column-wise:\n",
            "[[20  9 16]]\n"
          ]
        }
      ]
    },
    {
      "cell_type": "code",
      "source": [
        "# For the matrix: n_array = np.array([[55, 25, 15],[30, 44, 2],[11, 45, 77]]) find Sum of diagonal elements, Eigen values of matrix, Eigen vectors of matrix, Inverse of matrix, Determinant of matrix\n",
        "n_matrix = np.array([[55, 25, 15],\n",
        "                    [30, 44, 2],\n",
        "                    [11, 45, 77]])\n",
        "\n",
        "print(\"Numpy Matrix is:\\n\",n_matrix)\n",
        "\n",
        "# Sum of diagonal elements of a matrix\n",
        "diag = np.diagonal(n_matrix)\n",
        "print(\"Sum of Diagonal elements is:\\n\",sum(diag))\n",
        "\n",
        "# Eigen Values and Vectors of matrix\n",
        "w, v = np.linalg.eig(n_matrix)\n",
        "print(\"Printing the Eigen values of the matrix:\\n\",\n",
        "      w)\n",
        "print(\"Printing Right Eigenvectors of the matrix:\\n\",\n",
        "      v)\n",
        "\n",
        "# INverse of Matrix\n",
        "inverse_matrix = np.linalg.inv(n_matrix)\n",
        "print(\"Inverse of matrix is:\\n\",inverse_matrix)\n",
        "\n",
        "# Determinant of matrix\n",
        "determinant_matrix = np.linalg.det(n_matrix)\n",
        "print(\"Determinant of matrix is:\\n\",determinant_matrix)"
      ],
      "metadata": {
        "colab": {
          "base_uri": "https://localhost:8080/"
        },
        "id": "1AlUeTB0O8Nz",
        "outputId": "4850769b-647c-4ffb-bd90-4086c50f205b"
      },
      "execution_count": null,
      "outputs": [
        {
          "output_type": "stream",
          "name": "stdout",
          "text": [
            "Numpy Matrix is:\n",
            " [[55 25 15]\n",
            " [30 44  2]\n",
            " [11 45 77]]\n",
            "Sum of Diagonal elements is:\n",
            " 176\n",
            "Printing the Eigen values of the matrix:\n",
            " [98.16835147 28.097044   49.73460452]\n",
            "Printing Right Eigenvectors of the matrix:\n",
            " [[ 0.4574917   0.34637121 -0.15017693]\n",
            " [ 0.28447814 -0.72784061 -0.4852124 ]\n",
            " [ 0.84248058  0.59184038  0.8614034 ]]\n",
            "Inverse of matrix is:\n",
            " [[ 0.02404141 -0.00911212 -0.00444671]\n",
            " [-0.01667882  0.02966905  0.0024785 ]\n",
            " [ 0.00631287 -0.01603732  0.01217379]]\n",
            "Determinant of matrix is:\n",
            " 137180.0000000001\n"
          ]
        }
      ]
    },
    {
      "cell_type": "code",
      "source": [
        "# Multiply the following matrices and also find covariance between matrices using NumPy: i) p = [[1, 2], [2, 3]] q = [[4, 5], [6, 7]] , ii) p = [[1, 2], [2, 3], [4, 5]] q = [[4, 5, 1], [6, 7, 2]]\n",
        "p = [[1, 2], [2, 3]]\n",
        "q = [[4, 5], [6, 7]]\n",
        "\n",
        "# product of matrices\n",
        "result = np.dot(p, q)\n",
        "\n",
        "print(result)\n",
        "\n",
        "# covariance matrix\n",
        "print(np.cov(p))\n",
        "\n",
        "# covariance matrix\n",
        "print(np.cov(q))\n",
        "\n",
        "# covariance matrix\n",
        "print(np.cov(p, q))\n",
        "\n",
        "# covariance matrix\n",
        "print(np.cov(p, q, bias=1))\n",
        "\n",
        "# covariance matrix\n",
        "print(np.cov(p, q, bias=0))"
      ],
      "metadata": {
        "colab": {
          "base_uri": "https://localhost:8080/"
        },
        "id": "2Xjxjdy2RXLP",
        "outputId": "426c0045-21c6-4d4a-f524-6d28c7769c4b"
      },
      "execution_count": null,
      "outputs": [
        {
          "output_type": "stream",
          "name": "stdout",
          "text": [
            "[[16 19]\n",
            " [26 31]]\n",
            "[[0.5 0.5]\n",
            " [0.5 0.5]]\n",
            "[[0.5 0.5]\n",
            " [0.5 0.5]]\n",
            "[[0.5 0.5 0.5 0.5]\n",
            " [0.5 0.5 0.5 0.5]\n",
            " [0.5 0.5 0.5 0.5]\n",
            " [0.5 0.5 0.5 0.5]]\n",
            "[[0.25 0.25 0.25 0.25]\n",
            " [0.25 0.25 0.25 0.25]\n",
            " [0.25 0.25 0.25 0.25]\n",
            " [0.25 0.25 0.25 0.25]]\n",
            "[[0.5 0.5 0.5 0.5]\n",
            " [0.5 0.5 0.5 0.5]\n",
            " [0.5 0.5 0.5 0.5]\n",
            " [0.5 0.5 0.5 0.5]]\n"
          ]
        }
      ]
    },
    {
      "cell_type": "code",
      "source": [
        "# For the matrices: x = np.array([[2, 3, 4], [3, 2, 9]]); y = np.array([[1, 5, 0], [5, 10, 3]]),find inner, outer and cartesian product?\n",
        "x = np.array([[2, 3, 4], [3, 2, 9]])\n",
        "y = np.array([[1, 5, 0], [5, 10, 3]])\n",
        "print(\"Inner product:\")\n",
        "print(np.inner(x, y))\n",
        "print(\"Outer product:\")\n",
        "print(np.outer(x, y))\n",
        "print(\"Cartesian product:\")\n",
        "print(np.cross(x, y))"
      ],
      "metadata": {
        "colab": {
          "base_uri": "https://localhost:8080/"
        },
        "id": "vP6O7p2qSJrU",
        "outputId": "f67bb7f7-3ddf-421b-a282-2d20d7a4f82a"
      },
      "execution_count": null,
      "outputs": [
        {
          "output_type": "stream",
          "name": "stdout",
          "text": [
            "Inner product:\n",
            "[[17 52]\n",
            " [13 62]]\n",
            "Outer product:\n",
            "[[ 2 10  0 10 20  6]\n",
            " [ 3 15  0 15 30  9]\n",
            " [ 4 20  0 20 40 12]\n",
            " [ 3 15  0 15 30  9]\n",
            " [ 2 10  0 10 20  6]\n",
            " [ 9 45  0 45 90 27]]\n",
            "Cartesian product:\n",
            "[[-20   4   7]\n",
            " [-84  36  20]]\n"
          ]
        }
      ]
    },
    {
      "cell_type": "markdown",
      "source": [
        "**Question 2**"
      ],
      "metadata": {
        "id": "UkT1NIc3f2-v"
      }
    },
    {
      "cell_type": "code",
      "source": [
        "import numpy as np\n",
        "\n",
        "# Given array\n",
        "array = np.array([[1, -2, 3], [-4, 5, -6]])\n",
        "\n",
        "# i. Element-wise absolute value\n",
        "abs_array = np.abs(array)\n",
        "print(\"Absolute Value:\\n\", abs_array)\n",
        "\n"
      ],
      "metadata": {
        "id": "Nr3uCVkNf-XF",
        "colab": {
          "base_uri": "https://localhost:8080/"
        },
        "outputId": "bdefddb3-6d06-408a-f076-b0481ab7161b"
      },
      "execution_count": null,
      "outputs": [
        {
          "output_type": "stream",
          "name": "stdout",
          "text": [
            "Absolute Value:\n",
            " [[1 2 3]\n",
            " [4 5 6]]\n"
          ]
        }
      ]
    },
    {
      "cell_type": "code",
      "source": [
        "# ii. Percentiles of the flattened array, for each column, for each row\n",
        "flattened = array.flatten()\n",
        "percentiles_flattened = np.percentile(flattened, [25, 50, 75])\n",
        "\n",
        "percentiles_columns = np.percentile(array, [25, 50, 75], axis=0)\n",
        "percentiles_rows = np.percentile(array, [25, 50, 75], axis=1)\n",
        "\n",
        "print(\"\\nPercentiles of Flattened Array:\", percentiles_flattened)\n",
        "print(\"Percentiles for each Column:\\n\", percentiles_columns)\n",
        "print(\"Percentiles for each Row:\\n\", percentiles_rows)"
      ],
      "metadata": {
        "colab": {
          "base_uri": "https://localhost:8080/"
        },
        "id": "thKFvwi1-xeT",
        "outputId": "01c3ed34-18b6-4616-c2ee-059603a2a085"
      },
      "execution_count": null,
      "outputs": [
        {
          "output_type": "stream",
          "name": "stdout",
          "text": [
            "\n",
            "Percentiles of Flattened Array: [-3.5 -0.5  2.5]\n",
            "Percentiles for each Column:\n",
            " [[-2.75 -0.25 -3.75]\n",
            " [-1.5   1.5  -1.5 ]\n",
            " [-0.25  3.25  0.75]]\n",
            "Percentiles for each Row:\n",
            " [[-0.5 -5. ]\n",
            " [ 1.  -4. ]\n",
            " [ 2.   0.5]]\n"
          ]
        }
      ]
    },
    {
      "cell_type": "code",
      "source": [
        "# iii. Mean, Median, and Standard Deviation of flattened array, of each column, and each row\n",
        "mean_flattened = np.mean(flattened)\n",
        "median_flattened = np.median(flattened)\n",
        "std_flattened = np.std(flattened)\n",
        "\n",
        "mean_columns = np.mean(array, axis=0)\n",
        "median_columns = np.median(array, axis=0)\n",
        "std_columns = np.std(array, axis=0)\n",
        "\n",
        "mean_rows = np.mean(array, axis=1)\n",
        "median_rows = np.median(array, axis=1)\n",
        "std_rows = np.std(array, axis=1)\n",
        "\n",
        "print(\"\\nMean, Median, Standard Deviation of Flattened Array:\")\n",
        "print(\"Mean:\", mean_flattened, \"Median:\", median_flattened, \"Std Dev:\", std_flattened)\n",
        "\n",
        "print(\"\\nMean, Median, Standard Deviation for each Column:\")\n",
        "print(\"Mean:\", mean_columns, \"Median:\", median_columns, \"Std Dev:\", std_columns)\n",
        "\n",
        "print(\"\\nMean, Median, Standard Deviation for each Row:\")\n",
        "print(\"Mean:\", mean_rows, \"Median:\", median_rows, \"Std Dev:\", std_rows)\n"
      ],
      "metadata": {
        "colab": {
          "base_uri": "https://localhost:8080/"
        },
        "id": "CoP3yr7M-z1C",
        "outputId": "1a882db2-bfc4-4c9e-be8c-e9183c6db3de"
      },
      "execution_count": null,
      "outputs": [
        {
          "output_type": "stream",
          "name": "stdout",
          "text": [
            "\n",
            "Mean, Median, Standard Deviation of Flattened Array:\n",
            "Mean: -0.5 Median: -0.5 Std Dev: 3.8622100754188224\n",
            "\n",
            "Mean, Median, Standard Deviation for each Column:\n",
            "Mean: [-1.5  1.5 -1.5] Median: [-1.5  1.5 -1.5] Std Dev: [2.5 3.5 4.5]\n",
            "\n",
            "Mean, Median, Standard Deviation for each Row:\n",
            "Mean: [ 0.66666667 -1.66666667] Median: [ 1. -4.] Std Dev: [2.05480467 4.78423336]\n"
          ]
        }
      ]
    },
    {
      "cell_type": "markdown",
      "source": [
        "**Question 3**"
      ],
      "metadata": {
        "id": "LX8YrDAB_kgF"
      }
    },
    {
      "cell_type": "code",
      "source": [
        "import numpy as np\n",
        "\n",
        "array = np.array([10, 52, 62, 16, 16, 54, 453])\n",
        "\n",
        "# i. Sorted array\n",
        "sorted_array = np.sort(array)\n",
        "print(\"Sorted array:\", sorted_array)\n",
        "\n",
        "\n"
      ],
      "metadata": {
        "colab": {
          "base_uri": "https://localhost:8080/"
        },
        "id": "26pkkfrm_pa_",
        "outputId": "ae287956-d73c-4c7b-a058-4a408c95b9ca"
      },
      "execution_count": null,
      "outputs": [
        {
          "output_type": "stream",
          "name": "stdout",
          "text": [
            "Sorted array: [ 10  16  16  52  54  62 453]\n"
          ]
        }
      ]
    },
    {
      "cell_type": "code",
      "source": [
        "# ii. Indices of sorted array\n",
        "sorted_indices = np.argsort(array)\n",
        "print(\"Indices of sorted array:\", sorted_indices)\n",
        "\n"
      ],
      "metadata": {
        "colab": {
          "base_uri": "https://localhost:8080/"
        },
        "id": "MWizy_zb_xT9",
        "outputId": "4e405487-8d4c-404b-88b6-f9b9465dd262"
      },
      "execution_count": null,
      "outputs": [
        {
          "output_type": "stream",
          "name": "stdout",
          "text": [
            "Indices of sorted array: [0 3 4 1 5 2 6]\n"
          ]
        }
      ]
    },
    {
      "cell_type": "code",
      "source": [
        "# iii. 4 smallest elements\n",
        "smallest_elements = np.sort(array)[:4]\n",
        "print(\"4 smallest elements:\", smallest_elements)\n",
        "\n"
      ],
      "metadata": {
        "colab": {
          "base_uri": "https://localhost:8080/"
        },
        "id": "U1k78wfz_y6s",
        "outputId": "4c4ff278-4066-483f-bd2f-1ab220c4c655"
      },
      "execution_count": null,
      "outputs": [
        {
          "output_type": "stream",
          "name": "stdout",
          "text": [
            "4 smallest elements: [10 16 16 52]\n"
          ]
        }
      ]
    },
    {
      "cell_type": "code",
      "source": [
        "# iv. 5 largest elements\n",
        "largest_elements = np.sort(array)[-5:]\n",
        "print(\"5 largest elements:\", largest_elements)"
      ],
      "metadata": {
        "colab": {
          "base_uri": "https://localhost:8080/"
        },
        "id": "Y-I4EpLa_0xh",
        "outputId": "b0e852e7-cfcf-4016-b941-bd56cc4775d1"
      },
      "execution_count": null,
      "outputs": [
        {
          "output_type": "stream",
          "name": "stdout",
          "text": [
            "5 largest elements: [ 16  52  54  62 453]\n"
          ]
        }
      ]
    },
    {
      "cell_type": "code",
      "source": [
        "# Given array\n",
        "array = np.array([1.0, 1.2, 2.2, 2.0, 3.0, 2.0])\n",
        "\n"
      ],
      "metadata": {
        "id": "X4o1jZOxAPJL"
      },
      "execution_count": null,
      "outputs": []
    },
    {
      "cell_type": "code",
      "source": [
        "# i. Integer elements only\n",
        "integer_elements = array[array == np.floor(array)]\n",
        "print(\"Integer elements only:\", integer_elements)\n",
        "\n",
        "\n"
      ],
      "metadata": {
        "colab": {
          "base_uri": "https://localhost:8080/"
        },
        "id": "1dk8DQFFAVB7",
        "outputId": "0a273b95-bbc3-4323-c47a-1cd4ba4327cd"
      },
      "execution_count": null,
      "outputs": [
        {
          "output_type": "stream",
          "name": "stdout",
          "text": [
            "Integer elements only: [1. 2. 3. 2.]\n"
          ]
        }
      ]
    },
    {
      "cell_type": "code",
      "source": [
        "# ii. Float elements only (excluding integers)\n",
        "float_elements = array[array != np.floor(array)]\n",
        "print(\"Float elements only:\", float_elements)"
      ],
      "metadata": {
        "colab": {
          "base_uri": "https://localhost:8080/"
        },
        "id": "rUK468x6AbLF",
        "outputId": "6449dbd5-249b-4ca0-c844-d5b7009feca9"
      },
      "execution_count": null,
      "outputs": [
        {
          "output_type": "stream",
          "name": "stdout",
          "text": [
            "Float elements only: [1.2 2.2]\n"
          ]
        }
      ]
    },
    {
      "cell_type": "markdown",
      "source": [
        "**Question 4**"
      ],
      "metadata": {
        "id": "y4h_CaO6A1RW"
      }
    },
    {
      "cell_type": "code",
      "source": [
        "import cv2\n",
        "import numpy as np\n",
        "\n",
        "def img_to_array(path):\n",
        "    image = cv2.imread(path)\n",
        "\n",
        "    if image is None:\n",
        "        print(\"Error: Image not found or the path is incorrect.\")\n",
        "        return\n",
        "\n",
        "    if len(image.shape) == 2:\n",
        "        print(\"The image is in Grayscale.\")\n",
        "        np.savetxt(\"grayscale_image.txt\", image, fmt='%d')\n",
        "    elif len(image.shape) == 3:\n",
        "        print(\"The image is in RGB.\")\n",
        "        reshaped_image = image.reshape(-1, image.shape[-1])\n",
        "        np.savetxt(\"rgb_image.txt\", reshaped_image, fmt='%d')\n",
        "    else:\n",
        "        print(\"Unsupported image format.\")\n",
        "\n",
        "    print(\"Image has been saved as a text file.\")\n",
        "\n"
      ],
      "metadata": {
        "id": "7VpO-NB9A40A"
      },
      "execution_count": null,
      "outputs": []
    },
    {
      "cell_type": "code",
      "source": [
        "import numpy as np\n",
        "\n",
        "def load_image_array(file_path, image_shape, is_rgb=False):\n",
        "    if is_rgb:\n",
        "        image_array = np.loadtxt(file_path, dtype=np.uint8)\n",
        "        image_array = image_array.reshape(image_shape)\n",
        "    else:\n",
        "        image_array = np.loadtxt(file_path, dtype=np.uint8)\n",
        "\n",
        "    return image_array"
      ],
      "metadata": {
        "id": "5h7hidoyBHde"
      },
      "execution_count": null,
      "outputs": []
    }
  ]
}