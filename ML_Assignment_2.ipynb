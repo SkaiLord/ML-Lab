{
  "nbformat": 4,
  "nbformat_minor": 0,
  "metadata": {
    "colab": {
      "provenance": [],
      "include_colab_link": true
    },
    "kernelspec": {
      "name": "python3",
      "display_name": "Python 3"
    },
    "language_info": {
      "name": "python"
    }
  },
  "cells": [
    {
      "cell_type": "markdown",
      "metadata": {
        "id": "view-in-github",
        "colab_type": "text"
      },
      "source": [
        "<a href=\"https://colab.research.google.com/github/SkaiLord/ML-Lab/blob/main/ML_Assignment_2.ipynb\" target=\"_parent\"><img src=\"https://colab.research.google.com/assets/colab-badge.svg\" alt=\"Open In Colab\"/></a>"
      ]
    },
    {
      "cell_type": "code",
      "execution_count": null,
      "metadata": {
        "id": "ruf7ZO6HNfGK"
      },
      "outputs": [],
      "source": [
        "# cleaning, drop rows, replace null values: with pad and bfill, nearest neighbours;\n",
        "# normalisation -> age -> drop values >2.2 outliers\n",
        "# Box plot, q3,q1,IQR -> find outliers and remove outliers\n",
        "# Feature encoding"
      ]
    },
    {
      "cell_type": "markdown",
      "source": [
        "1. Cleaning the Dataset\n",
        "Drop Rows: We'll drop any rows with missing essential information that can't be filled meaningfully.\n",
        "Replace Null Values: For the columns with missing data, we'll replace null values using the following methods:\n",
        "pad: Forward fill (use the previous value to fill the missing one).\n",
        "bfill: Backward fill (use the next value to fill the missing one).\n",
        "Nearest neighbors: Use the values of the nearest neighbors (e.g., through K-Nearest Neighbors imputation).\n",
        "2. Normalization\n",
        "Age: Normalize the Age column and remove any outliers where the values are greater than 2.2 (based on a z-score or other criteria).\n",
        "3. Outlier Detection and Removal\n",
        "Box Plot, Q1, Q3, IQR: Calculate Q1, Q3, and the Interquartile Range (IQR) for the numeric columns. Identify outliers and remove them.\n",
        "4. Feature Encoding\n",
        "Encode categorical variables like Sex and Embarked using techniques such as one-hot encoding or label encoding."
      ],
      "metadata": {
        "id": "P1EXVal-Y7CL"
      }
    },
    {
      "cell_type": "code",
      "source": [
        "import pandas as pd\n",
        "from sklearn.preprocessing import MinMaxScaler\n",
        "\n",
        "# Load the dataset\n",
        "df = pd.read_csv('/content/drive/MyDrive/Colab Notebooks/datasets/titanic.csv')\n",
        "# show no.of false and true\n",
        "df['Age'].isna().value_counts()"
      ],
      "metadata": {
        "colab": {
          "base_uri": "https://localhost:8080/",
          "height": 178
        },
        "collapsed": true,
        "id": "M0cq12coP2fu",
        "outputId": "bf6c06d8-0702-4377-b6e1-60b8af3ab336"
      },
      "execution_count": null,
      "outputs": [
        {
          "output_type": "execute_result",
          "data": {
            "text/plain": [
              "Age\n",
              "False    714\n",
              "True     177\n",
              "Name: count, dtype: int64"
            ],
            "text/html": [
              "<div>\n",
              "<style scoped>\n",
              "    .dataframe tbody tr th:only-of-type {\n",
              "        vertical-align: middle;\n",
              "    }\n",
              "\n",
              "    .dataframe tbody tr th {\n",
              "        vertical-align: top;\n",
              "    }\n",
              "\n",
              "    .dataframe thead th {\n",
              "        text-align: right;\n",
              "    }\n",
              "</style>\n",
              "<table border=\"1\" class=\"dataframe\">\n",
              "  <thead>\n",
              "    <tr style=\"text-align: right;\">\n",
              "      <th></th>\n",
              "      <th>count</th>\n",
              "    </tr>\n",
              "    <tr>\n",
              "      <th>Age</th>\n",
              "      <th></th>\n",
              "    </tr>\n",
              "  </thead>\n",
              "  <tbody>\n",
              "    <tr>\n",
              "      <th>False</th>\n",
              "      <td>714</td>\n",
              "    </tr>\n",
              "    <tr>\n",
              "      <th>True</th>\n",
              "      <td>177</td>\n",
              "    </tr>\n",
              "  </tbody>\n",
              "</table>\n",
              "</div><br><label><b>dtype:</b> int64</label>"
            ]
          },
          "metadata": {},
          "execution_count": 36
        }
      ]
    },
    {
      "cell_type": "code",
      "source": [
        "# Drop rows where 'Embarked' is missing as it's essential\n",
        "df.dropna(subset=['Embarked'], inplace=True)\n",
        "# Fill missing 'Age' values using padding (forward fill)\n",
        "df['Age'].ffill(inplace=True)\n",
        "df\n",
        "# Fill remaining missing 'Age' values using backfill\n",
        "df['Age'].bfill(inplace=True)\n",
        "df\n",
        "\n",
        "# Normalize 'Age' column\n",
        "scaler = MinMaxScaler()\n",
        "df['Age'] = scaler.fit_transform(df['Age'].values.reshape(-1, 1))\n",
        "\n",
        "# Remove outliers in 'Age' column\n",
        "df = df[df['Age'] <= 2.2]"
      ],
      "metadata": {
        "id": "2Wbj_glGTld-"
      },
      "execution_count": null,
      "outputs": []
    },
    {
      "cell_type": "code",
      "source": [
        "# Fill missing 'Age' values with forward fill\n",
        "df['Age'].fillna(method='pad', inplace=True)\n",
        "# Fill remaining missing 'Age' values using backfill\n",
        "df['Age'].fillna(method='bfill', inplace=True)\n",
        "\n",
        "# Fill missing 'Cabin' values using nearest neighbors (if applicable), fill with the most frequent value in 'Cabin'\n",
        "df['Cabin'].fillna(df['Cabin'].mode()[0], inplace=True)"
      ],
      "metadata": {
        "colab": {
          "base_uri": "https://localhost:8080/"
        },
        "id": "IvRfA3c5U7nJ",
        "outputId": "3e606fcf-31b5-4548-bcab-c48c44a7c1e9"
      },
      "execution_count": null,
      "outputs": [
        {
          "output_type": "stream",
          "name": "stderr",
          "text": [
            "<ipython-input-37-6292938ef22b>:2: FutureWarning: Series.fillna with 'method' is deprecated and will raise in a future version. Use obj.ffill() or obj.bfill() instead.\n",
            "  df['Age'].fillna(method='pad', inplace=True)\n",
            "<ipython-input-37-6292938ef22b>:4: FutureWarning: Series.fillna with 'method' is deprecated and will raise in a future version. Use obj.ffill() or obj.bfill() instead.\n",
            "  df['Age'].fillna(method='bfill', inplace=True)\n"
          ]
        }
      ]
    },
    {
      "cell_type": "code",
      "source": [
        "from scipy import stats\n",
        "\n",
        "# Calculate z-scores\n",
        "df['Age_zscore'] = stats.zscore(df['Age'])\n",
        "\n",
        "# Filter out outliers\n",
        "df = df[df['Age_zscore'] <= 2.2]\n",
        "\n",
        "# Drop the z-score column as it's no longer needed\n",
        "df.drop(columns=['Age_zscore'], inplace=True)"
      ],
      "metadata": {
        "id": "d--WrFOJXMCw",
        "colab": {
          "base_uri": "https://localhost:8080/"
        },
        "outputId": "c1724518-3cb7-4ac2-bc97-842f3eb6cdb9"
      },
      "execution_count": null,
      "outputs": [
        {
          "output_type": "stream",
          "name": "stderr",
          "text": [
            "<ipython-input-38-8776a2566b37>:10: SettingWithCopyWarning: \n",
            "A value is trying to be set on a copy of a slice from a DataFrame\n",
            "\n",
            "See the caveats in the documentation: https://pandas.pydata.org/pandas-docs/stable/user_guide/indexing.html#returning-a-view-versus-a-copy\n",
            "  df.drop(columns=['Age_zscore'], inplace=True)\n"
          ]
        }
      ]
    },
    {
      "cell_type": "code",
      "source": [
        "# Calculate Q1 (25th percentile) and Q3 (75th percentile) for 'Fare'\n",
        "Q1 = df['Fare'].quantile(0.25)\n",
        "Q3 = df['Fare'].quantile(0.75)\n",
        "IQR = Q3 - Q1\n",
        "\n",
        "# Define bounds for outliers\n",
        "lower_bound = Q1 - 1.5 * IQR\n",
        "upper_bound = Q3 + 1.5 * IQR\n",
        "\n",
        "# Remove outliers from 'Fare'\n",
        "df = df[(df['Fare'] >= lower_bound) & (df['Fare'] <= upper_bound)]\n"
      ],
      "metadata": {
        "id": "Gtk7_5noXS-J",
        "colab": {
          "base_uri": "https://localhost:8080/"
        },
        "outputId": "926a7bba-a784-4741-a3f6-6dd76855619a"
      },
      "execution_count": null,
      "outputs": [
        {
          "output_type": "stream",
          "name": "stdout",
          "text": [
            "7.8958 26.0 18.1042\n"
          ]
        }
      ]
    },
    {
      "cell_type": "code",
      "source": [
        "# Encode 'Sex' using label encoding (0 for female, 1 for male)\n",
        "df['Sex'] = df['Sex'].map({'male': 1, 'female': 0})\n",
        "\n",
        "# One-hot encode 'Embarked'\n",
        "df = pd.get_dummies(df, columns=['Embarked'], drop_first=True)\n"
      ],
      "metadata": {
        "id": "Mlvg_j1TXb-v"
      },
      "execution_count": null,
      "outputs": []
    },
    {
      "cell_type": "code",
      "source": [
        "# Save the cleaned dataset\n",
        "df.to_csv('titanic_cleaned.csv', index=False)\n",
        "df = pd.read_csv('titanic_cleaned.csv')\n",
        "# show no.of false and true\n",
        "df['Age'].isna().value_counts()"
      ],
      "metadata": {
        "id": "fMESrfYzXdFx",
        "colab": {
          "base_uri": "https://localhost:8080/",
          "height": 147
        },
        "outputId": "fa6ac882-1a74-4812-f75b-2eeba5962f0a"
      },
      "execution_count": null,
      "outputs": [
        {
          "output_type": "execute_result",
          "data": {
            "text/plain": [
              "Age\n",
              "False    734\n",
              "Name: count, dtype: int64"
            ],
            "text/html": [
              "<div>\n",
              "<style scoped>\n",
              "    .dataframe tbody tr th:only-of-type {\n",
              "        vertical-align: middle;\n",
              "    }\n",
              "\n",
              "    .dataframe tbody tr th {\n",
              "        vertical-align: top;\n",
              "    }\n",
              "\n",
              "    .dataframe thead th {\n",
              "        text-align: right;\n",
              "    }\n",
              "</style>\n",
              "<table border=\"1\" class=\"dataframe\">\n",
              "  <thead>\n",
              "    <tr style=\"text-align: right;\">\n",
              "      <th></th>\n",
              "      <th>count</th>\n",
              "    </tr>\n",
              "    <tr>\n",
              "      <th>Age</th>\n",
              "      <th></th>\n",
              "    </tr>\n",
              "  </thead>\n",
              "  <tbody>\n",
              "    <tr>\n",
              "      <th>False</th>\n",
              "      <td>734</td>\n",
              "    </tr>\n",
              "  </tbody>\n",
              "</table>\n",
              "</div><br><label><b>dtype:</b> int64</label>"
            ]
          },
          "metadata": {},
          "execution_count": 44
        }
      ]
    }
  ]
}