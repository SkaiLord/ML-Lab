{
  "nbformat": 4,
  "nbformat_minor": 0,
  "metadata": {
    "colab": {
      "provenance": [],
      "include_colab_link": true
    },
    "kernelspec": {
      "name": "python3",
      "display_name": "Python 3"
    },
    "language_info": {
      "name": "python"
    }
  },
  "cells": [
    {
      "cell_type": "markdown",
      "metadata": {
        "id": "view-in-github",
        "colab_type": "text"
      },
      "source": [
        "<a href=\"https://colab.research.google.com/github/SkaiLord/ML-Lab/blob/main/ML_Assignment_3.ipynb\" target=\"_parent\"><img src=\"https://colab.research.google.com/assets/colab-badge.svg\" alt=\"Open In Colab\"/></a>"
      ]
    },
    {
      "cell_type": "markdown",
      "source": [
        "# LAB 3"
      ],
      "metadata": {
        "id": "KInSTiu5GPl0"
      }
    },
    {
      "cell_type": "markdown",
      "source": [
        "\n",
        "\n",
        "\n",
        "Q1:K-Fold Cross Validation for Multiple Linear Regression (Least Square Error Fit). Load the dataset and Implement 5- fold cross validation for multiple linear regression (using least square error fit). \\\n",
        "  Steps:\n",
        "  - Divide the dataset into input features (all columns except price) and output variable (price)\n",
        "  - Scale the values of input features.\n",
        "  - Divide input and output features into five folds.\n",
        "  - Run five iterations, in each iteration consider one-fold as test set and remaining four sets as training set. Find the beta (β) matrix, predicted values, and R2_score for each iteration using least square error fit.\n",
        "  - Use the best value of (β) matrix (for which R2_score is maximum), to train the regressor for 70% of data and test the performance for remaining 30% data.\n",
        "\n"
      ],
      "metadata": {
        "id": "SJ5znEZsLWgA"
      }
    },
    {
      "cell_type": "code",
      "source": [
        "import pandas as pd\n",
        "from sklearn.model_selection import KFold\n",
        "from sklearn.preprocessing import StandardScaler\n",
        "from sklearn.linear_model import LinearRegression\n",
        "from sklearn.metrics import r2_score\n",
        "# Load the dataset\n",
        "data = pd.read_csv('/content/drive/MyDrive/Colab Notebooks/datasets/USA_Housing.csv')\n",
        "# Divide the dataset into input features and output variable\n",
        "X = data.drop('Price', axis=1)\n",
        "y = data['Price']\n",
        "# Scale the values of input features\n",
        "scaler = StandardScaler()\n",
        "X_scaled = scaler.fit_transform(X)\n",
        "\n",
        "# Divide input and output features into five folds\n",
        "kf = KFold(n_splits=5, shuffle=True, random_state=42)\n",
        "\n",
        "# Run five iterations\n",
        "best_beta = None\n",
        "best_r2_score = -float('inf')\n",
        "for train_index, test_index in kf.split(X_scaled):\n",
        "  X_train, X_test = X_scaled[train_index], X_scaled[test_index]\n",
        "  y_train, y_test = y.iloc[train_index], y.iloc[test_index]\n",
        "  # Find the beta matrix, predicted values, and R2_score\n",
        "  regressor = LinearRegression()\n",
        "  regressor.fit(X_train, y_train)\n",
        "  y_pred = regressor.predict(X_test)\n",
        "  r2 = r2_score(y_test, y_pred)\n",
        "  # Update the best beta matrix and R2_score\n",
        "  if r2 > best_r2_score:\n",
        "    best_r2_score = r2\n",
        "    best_beta = regressor.coef_\n",
        "\n",
        "# Train the regressor for 70% of data\n",
        "split_index = int(0.7 * len(X_scaled))\n",
        "X_train, X_test = X_scaled[:split_index], X_scaled[split_index:]\n",
        "y_train, y_test = y.iloc[:split_index], y.iloc[split_index:]\n",
        "regressor = LinearRegression()\n",
        "regressor.fit(X_train, y_train)\n",
        "regressor.coef_ = best_beta\n",
        "\n",
        "# Test the performance for remaining 30% data\n",
        "y_pred = regressor.predict(X_test)\n",
        "r2 = r2_score(y_test, y_pred)\n",
        "print('R2 score for 30% test data:', r2)\n"
      ],
      "metadata": {
        "colab": {
          "base_uri": "https://localhost:8080/"
        },
        "id": "WrXRY4GtLViN",
        "outputId": "745dabac-ecd8-4bd3-9401-f9c770d4354d"
      },
      "execution_count": null,
      "outputs": [
        {
          "output_type": "stream",
          "name": "stdout",
          "text": [
            "R2 score for 30% test data: 0.9176755577794673\n"
          ]
        }
      ]
    }
  ]
}