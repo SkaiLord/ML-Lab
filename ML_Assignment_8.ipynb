{
  "nbformat": 4,
  "nbformat_minor": 0,
  "metadata": {
    "colab": {
      "provenance": [],
      "include_colab_link": true
    },
    "kernelspec": {
      "name": "python3",
      "display_name": "Python 3"
    },
    "language_info": {
      "name": "python"
    }
  },
  "cells": [
    {
      "cell_type": "markdown",
      "metadata": {
        "id": "view-in-github",
        "colab_type": "text"
      },
      "source": [
        "<a href=\"https://colab.research.google.com/github/SkaiLord/ML-Lab/blob/main/ML_Assignment_8.ipynb\" target=\"_parent\"><img src=\"https://colab.research.google.com/assets/colab-badge.svg\" alt=\"Open In Colab\"/></a>"
      ]
    },
    {
      "cell_type": "markdown",
      "source": [
        "# LAB 8 - Error"
      ],
      "metadata": {
        "id": "iJPP3hZvZhUV"
      }
    },
    {
      "cell_type": "code",
      "execution_count": null,
      "metadata": {
        "colab": {
          "base_uri": "https://localhost:8080/"
        },
        "id": "uYoGfFnHZfKO",
        "outputId": "d343cdac-d678-46e9-ddfe-9ddd9d0f7d67"
      },
      "outputs": [
        {
          "output_type": "stream",
          "name": "stdout",
          "text": [
            "Mean Squared Error: 0.6485996190543516\n"
          ]
        }
      ],
      "source": [
        "# R-square, R-adjusted, Mean square error\n",
        "import seaborn as sb\n",
        "from sklearn.linear_model import LinearRegression\n",
        "from sklearn.model_selection import train_test_split\n",
        "from sklearn.metrics import mean_squared_error, r2_score\n",
        "\n",
        "# Load the dataset\n",
        "tips = sb.load_dataset(\"tips\")\n",
        "\n",
        "# Prepare the data\n",
        "X = tips[['total_bill', 'size']]\n",
        "y = tips['tip']\n",
        "\n",
        "# Split the data into training and testing sets\n",
        "X_train, X_test, y_train, y_test = train_test_split(X, y, test_size=0.2, random_state=42)\n",
        "\n",
        "# Create a linear regression model\n",
        "model = LinearRegression()\n",
        "\n",
        "# Train the model\n",
        "model.fit(X_train, y_train)\n",
        "\n",
        "# Make predictions on the test set\n",
        "y_pred = model.predict(X_test)\n",
        "\n",
        "# Calculate R-squared\n",
        "r_squared = r2_score(y_test, y_pred)\n",
        "\n",
        "# Calculate adjusted R-squared\n",
        "n = len(y_test)\n",
        "p = X_test.shape[1]\n",
        "adjusted_r_squared = 1 - (1 - r_squared) * (n - 1) / (n - p - 1)\n",
        "\n",
        "# Calculate Mean Squared Error\n",
        "mse = mean_squared_error(y_test, y_pred)\n",
        "\n",
        "print(\"R-squared:\", r_squared)\n",
        "print(\"Adjusted R-squared:\", adjusted_r_squared)\n",
        "print(\"Mean Squared Error:\", mse)"
      ]
    }
  ]
}